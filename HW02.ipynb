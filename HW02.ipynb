{
 "cells": [
  {
   "cell_type": "markdown",
   "metadata": {},
   "source": [
    "# Homework 02\n",
    "\n",
    "This Jupyter notebook file is a template that we provide for the homework.\n",
    "You _must_ use this template and follow the instructions.\n",
    "We require you to store specific intermediate results into _\"submission variables\"_ to unify the submission.\n",
    "These values are printed at the _end_ of the jupyter notebook and will be (partially) used to grade your assignment.\n",
    "Please ensure that these variables have the correct values and aren't overwritten by the following code cells."
   ]
  },
  {
   "cell_type": "code",
   "execution_count": 1,
   "metadata": {},
   "outputs": [],
   "source": [
    "# used for submission variables\n",
    "from copy import deepcopy"
   ]
  },
  {
   "cell_type": "code",
   "execution_count": 2,
   "metadata": {},
   "outputs": [],
   "source": [
    "# importing libraries\n",
    "# you can import any that are installed in Docker/Paperspace environment\n",
    "import numpy as np\n",
    "import matplotlib.pyplot as plt\n",
    "from scipy import ndimage"
   ]
  },
  {
   "cell_type": "markdown",
   "metadata": {},
   "source": [
    "## Manually applying filters\n",
    "\n",
    "In the theoretical lecture, you have seen a way to visualize and _manually_ calculate the convolution results.\n",
    "Please apply this _manual_ convolution method to the following input array.\n",
    "For this task, you can only use basic numpy operators (`+ - / @`) and for loops.\n",
    "\n",
    "Apply the manual convolution method using:\n",
    "- 0-padding\n",
    "- Reflection\n",
    "    - `a b c d` as input leads to the following reflections on the left and right-hand sides:\n",
    "        - `d c b a | a b c d | d c b a`"
   ]
  },
  {
   "cell_type": "code",
   "execution_count": 3,
   "metadata": {},
   "outputs": [],
   "source": [
    "inp_arr = np.array(\n",
    "    [\n",
    "        [1, 0, 1],\n",
    "        [0, 1, 0],\n",
    "        [0, 0, 0],\n",
    "    ]\n",
    ")\n",
    "\n",
    "kernel = np.array(\n",
    "    [\n",
    "        [0, 0, 0],\n",
    "        [0, 1, 0],\n",
    "        [0, 0, 1],\n",
    "    ]\n",
    ")\n",
    "\n",
    "output_arr_0_pad = np.zeros((3, 3))\n",
    "output_arr_reflect = np.zeros((3, 3))"
   ]
  },
  {
   "cell_type": "code",
   "execution_count": 4,
   "metadata": {},
   "outputs": [],
   "source": [
    "output_arr_0_pad = np.zeros((3, 3))\n",
    "output_arr_reflect = np.zeros((3, 3))\n",
    "\n",
    "# Add your code"
   ]
  },
  {
   "cell_type": "code",
   "execution_count": 5,
   "metadata": {},
   "outputs": [],
   "source": [
    "# DO NOT EDIT\n",
    "submission_output_arr_0_pad = deepcopy(output_arr_0_pad)\n",
    "submission_output_reflect = deepcopy(output_arr_reflect)\n",
    "###"
   ]
  },
  {
   "cell_type": "markdown",
   "metadata": {},
   "source": [
    "Visualize the outputs of the convolution operation and plot the results _next_ to each other in a single row."
   ]
  },
  {
   "cell_type": "code",
   "execution_count": 6,
   "metadata": {},
   "outputs": [],
   "source": [
    "# Add code to visualize the results next to each other"
   ]
  },
  {
   "cell_type": "markdown",
   "metadata": {},
   "source": [
    "## Applying filters to satellite data\n",
    "\n",
    "After manually applying the convolution operation to the input, you can now use the functions provided by `scipy` for the remaining tasks.\n",
    "\n",
    "1. Download the image from the following link:\n",
    "    - https://tubcloud.tu-berlin.de/s/mPLKMiHdSbbnNcH/download/noisy_river.npz\n",
    "    - Note: The image data has already been converted to the [0, 1] range, so there is no need to apply any _preprocessing/normalization_ to the data!\n",
    "1. Extract and visualize the channel that is named `blue`\n",
    "1. Apply filters that are designed for _denoising_ the input image\n",
    "    - Select a single filter for generating the denoised output\n",
    "    - Explain why you have selected the filter and why you have chosen the specific kernel size\n",
    "    - Visualize the denoised image\n",
    "2. Apply filters that are not designed for denoising with varying sizes and padding strategies to the _denoised_ image\n",
    "    - What is the effect of the padding strategy on the output?\n",
    "    - What do you notice when changing the padding strategy?\n"
   ]
  },
  {
   "cell_type": "code",
   "execution_count": 7,
   "metadata": {},
   "outputs": [],
   "source": [
    "# Download the noisy image from within the notebook\n",
    "# And visualize the blue band\n",
    "noisy_blue_band = ...\n"
   ]
  },
  {
   "cell_type": "code",
   "execution_count": 8,
   "metadata": {},
   "outputs": [],
   "source": [
    "# DO NOT EDIT\n",
    "submission_noisy_img = deepcopy(noisy_blue_band)\n",
    "###"
   ]
  },
  {
   "cell_type": "code",
   "execution_count": 9,
   "metadata": {},
   "outputs": [],
   "source": [
    "# Denoise the image with a _single_ filter and visualize the result\n",
    "denoised_img = ..."
   ]
  },
  {
   "cell_type": "markdown",
   "metadata": {},
   "source": [
    "Add a short discussion about _why_ you selected the filter and _why_ the chosen kernel size was selected, not a different one."
   ]
  },
  {
   "cell_type": "code",
   "execution_count": 10,
   "metadata": {},
   "outputs": [],
   "source": [
    "# DO NOT EDIT\n",
    "submission_denoised_img = deepcopy(denoised_img)\n",
    "###"
   ]
  },
  {
   "cell_type": "code",
   "execution_count": 11,
   "metadata": {},
   "outputs": [],
   "source": [
    "# apply different filter operations with various sizes and\n",
    "# padding strategies to the denoised image\n",
    "# try to visualize a couple of outputs that support your\n",
    "# arguments in the padding-strategy discussion!\n",
    "\n",
    "# (denoised_img)"
   ]
  },
  {
   "cell_type": "markdown",
   "metadata": {},
   "source": [
    "Add a short discussion about the padding strategy here."
   ]
  },
  {
   "cell_type": "markdown",
   "metadata": {},
   "source": [
    "### Creating features\n",
    "\n",
    "Create an output feature map that highlights the river edges.\n",
    "- You can apply multiple filter operations after each other to generate the output feature map\n",
    "- You can arbitrarily compose the intermediate results\n",
    "    - For example, by adding feature maps of filter responses together\n",
    "- The final feature map should be normalized to the range between 0 -- 1\n",
    "- Your strategy _must_ include _custom_ kernels that were not presented in the theoretical lecture\n",
    "\n",
    "Visually compare your output to the following image:\n",
    "\n",
    "![](river_edges.png)\n",
    "\n",
    "> If the image isn't displayed, make sure that the image file is located next to this notebook! Otherwise, manually inspect the provided image file: `river_edges.png`\n",
    "\n",
    "What is more/less prominent in your image?\n",
    "Try to provide an intuitive explanation for why your filter composition choice generates the given output.\n",
    "Motivate your choices and clarify that you haven't applied _random_ kernels to the output!"
   ]
  },
  {
   "cell_type": "code",
   "execution_count": 12,
   "metadata": {},
   "outputs": [],
   "source": [
    "# create complex filter output\n",
    "\n",
    "river_border_features = ..."
   ]
  },
  {
   "cell_type": "code",
   "execution_count": 13,
   "metadata": {},
   "outputs": [],
   "source": [
    "# DO NOT EDIT\n",
    "submission_river_border_features = deepcopy(river_border_features)\n",
    "###"
   ]
  },
  {
   "cell_type": "markdown",
   "metadata": {},
   "source": [
    "## Submission\n",
    "\n",
    "- Follow the instructions mentioned in this notebook\n",
    "- You are _not_ allowed to install other libraries\n",
    "    - The submitted jupyter notebook should be able to run as-is on Paperspace and/or the provided Docker image.\n",
    "- Explain the steps that went into the decision making of the specific values\n",
    "- Each homework must be done individually!\n",
    "- The notebook should have been executed once before submitting it\n",
    "    - The notebook should _not_ be _cleaned_ before submitting\n",
    "\n",
    "Each student should submit the following materials to the ISIS system:\n",
    "- One `zip` file containing the jupyter notebook named as: `IP4RS2022-HW2_<NAME_SURNAME>.zip`\n",
    "\n",
    "\n",
    "\n",
    "### Submission variables\n",
    "\n",
    "Please ensure that these variables are correct after you have restarted your notebook and executed all cells from top to bottom.\n",
    "You are _not allowed_ to modify the following cells:"
   ]
  },
  {
   "cell_type": "code",
   "execution_count": 14,
   "metadata": {},
   "outputs": [
    {
     "data": {
      "text/html": [
       "<pre style=\"white-space:pre;overflow-x:auto;line-height:normal;font-family:Menlo,'DejaVu Sans Mono',consolas,'Courier New',monospace\"><span style=\"color: #808000; text-decoration-color: #808000\">submission_output_arr_0_pad</span>=<span style=\"color: #800080; text-decoration-color: #800080; font-weight: bold\">array</span><span style=\"font-weight: bold\">([[</span><span style=\"color: #008080; text-decoration-color: #008080; font-weight: bold\">0</span>., <span style=\"color: #008080; text-decoration-color: #008080; font-weight: bold\">0</span>., <span style=\"color: #008080; text-decoration-color: #008080; font-weight: bold\">0</span>.<span style=\"font-weight: bold\">]</span>,\n",
       "       <span style=\"font-weight: bold\">[</span><span style=\"color: #008080; text-decoration-color: #008080; font-weight: bold\">0</span>., <span style=\"color: #008080; text-decoration-color: #008080; font-weight: bold\">0</span>., <span style=\"color: #008080; text-decoration-color: #008080; font-weight: bold\">0</span>.<span style=\"font-weight: bold\">]</span>,\n",
       "       <span style=\"font-weight: bold\">[</span><span style=\"color: #008080; text-decoration-color: #008080; font-weight: bold\">0</span>., <span style=\"color: #008080; text-decoration-color: #008080; font-weight: bold\">0</span>., <span style=\"color: #008080; text-decoration-color: #008080; font-weight: bold\">0</span>.<span style=\"font-weight: bold\">]])</span>\n",
       "</pre>\n"
      ],
      "text/plain": [
       "\u001b[33msubmission_output_arr_0_pad\u001b[0m=\u001b[1;35marray\u001b[0m\u001b[1m(\u001b[0m\u001b[1m[\u001b[0m\u001b[1m[\u001b[0m\u001b[1;36m0\u001b[0m., \u001b[1;36m0\u001b[0m., \u001b[1;36m0\u001b[0m.\u001b[1m]\u001b[0m,\n",
       "       \u001b[1m[\u001b[0m\u001b[1;36m0\u001b[0m., \u001b[1;36m0\u001b[0m., \u001b[1;36m0\u001b[0m.\u001b[1m]\u001b[0m,\n",
       "       \u001b[1m[\u001b[0m\u001b[1;36m0\u001b[0m., \u001b[1;36m0\u001b[0m., \u001b[1;36m0\u001b[0m.\u001b[1m]\u001b[0m\u001b[1m]\u001b[0m\u001b[1m)\u001b[0m\n"
      ]
     },
     "metadata": {},
     "output_type": "display_data"
    },
    {
     "data": {
      "text/html": [
       "<pre style=\"white-space:pre;overflow-x:auto;line-height:normal;font-family:Menlo,'DejaVu Sans Mono',consolas,'Courier New',monospace\"><span style=\"color: #808000; text-decoration-color: #808000\">submission_output_reflect</span>=<span style=\"color: #800080; text-decoration-color: #800080; font-weight: bold\">array</span><span style=\"font-weight: bold\">([[</span><span style=\"color: #008080; text-decoration-color: #008080; font-weight: bold\">0</span>., <span style=\"color: #008080; text-decoration-color: #008080; font-weight: bold\">0</span>., <span style=\"color: #008080; text-decoration-color: #008080; font-weight: bold\">0</span>.<span style=\"font-weight: bold\">]</span>,\n",
       "       <span style=\"font-weight: bold\">[</span><span style=\"color: #008080; text-decoration-color: #008080; font-weight: bold\">0</span>., <span style=\"color: #008080; text-decoration-color: #008080; font-weight: bold\">0</span>., <span style=\"color: #008080; text-decoration-color: #008080; font-weight: bold\">0</span>.<span style=\"font-weight: bold\">]</span>,\n",
       "       <span style=\"font-weight: bold\">[</span><span style=\"color: #008080; text-decoration-color: #008080; font-weight: bold\">0</span>., <span style=\"color: #008080; text-decoration-color: #008080; font-weight: bold\">0</span>., <span style=\"color: #008080; text-decoration-color: #008080; font-weight: bold\">0</span>.<span style=\"font-weight: bold\">]])</span>\n",
       "</pre>\n"
      ],
      "text/plain": [
       "\u001b[33msubmission_output_reflect\u001b[0m=\u001b[1;35marray\u001b[0m\u001b[1m(\u001b[0m\u001b[1m[\u001b[0m\u001b[1m[\u001b[0m\u001b[1;36m0\u001b[0m., \u001b[1;36m0\u001b[0m., \u001b[1;36m0\u001b[0m.\u001b[1m]\u001b[0m,\n",
       "       \u001b[1m[\u001b[0m\u001b[1;36m0\u001b[0m., \u001b[1;36m0\u001b[0m., \u001b[1;36m0\u001b[0m.\u001b[1m]\u001b[0m,\n",
       "       \u001b[1m[\u001b[0m\u001b[1;36m0\u001b[0m., \u001b[1;36m0\u001b[0m., \u001b[1;36m0\u001b[0m.\u001b[1m]\u001b[0m\u001b[1m]\u001b[0m\u001b[1m)\u001b[0m\n"
      ]
     },
     "metadata": {},
     "output_type": "display_data"
    },
    {
     "data": {
      "text/html": [
       "<pre style=\"white-space:pre;overflow-x:auto;line-height:normal;font-family:Menlo,'DejaVu Sans Mono',consolas,'Courier New',monospace\">Ellipsis\n",
       "</pre>\n"
      ],
      "text/plain": [
       "Ellipsis\n"
      ]
     },
     "metadata": {},
     "output_type": "display_data"
    },
    {
     "data": {
      "text/html": [
       "<pre style=\"white-space:pre;overflow-x:auto;line-height:normal;font-family:Menlo,'DejaVu Sans Mono',consolas,'Courier New',monospace\"><span style=\"color: #808000; text-decoration-color: #808000\">submission_denoised_img</span>=<span style=\"color: #800080; text-decoration-color: #800080\">Ellipsis</span>\n",
       "</pre>\n"
      ],
      "text/plain": [
       "\u001b[33msubmission_denoised_img\u001b[0m=\u001b[35mEllipsis\u001b[0m\n"
      ]
     },
     "metadata": {},
     "output_type": "display_data"
    },
    {
     "data": {
      "text/html": [
       "<pre style=\"white-space:pre;overflow-x:auto;line-height:normal;font-family:Menlo,'DejaVu Sans Mono',consolas,'Courier New',monospace\">Ellipsis\n",
       "</pre>\n"
      ],
      "text/plain": [
       "Ellipsis\n"
      ]
     },
     "metadata": {},
     "output_type": "display_data"
    }
   ],
   "source": [
    "import rich\n",
    "\n",
    "rich.print(f\"{submission_output_arr_0_pad=}\")\n",
    "rich.print(f\"{submission_output_reflect=}\")\n",
    "rich.print(f\"{submission_noisy_img}\")\n",
    "rich.print(f\"{submission_denoised_img=}\")\n",
    "rich.print(f\"{submission_river_border_features}\")"
   ]
  },
  {
   "cell_type": "code",
   "execution_count": null,
   "metadata": {},
   "outputs": [],
   "source": []
  }
 ],
 "metadata": {
  "interpreter": {
   "hash": "d950cc255805eca97bc9adaef38440cdd4d88c80fff2afb10853f0ffb81a073c"
  },
  "kernelspec": {
   "display_name": "Python 3.8.13 ('ip4rs')",
   "language": "python",
   "name": "python3"
  },
  "language_info": {
   "codemirror_mode": {
    "name": "ipython",
    "version": 3
   },
   "file_extension": ".py",
   "mimetype": "text/x-python",
   "name": "python",
   "nbconvert_exporter": "python",
   "pygments_lexer": "ipython3",
   "version": "3.8.13"
  }
 },
 "nbformat": 4,
 "nbformat_minor": 2
}
