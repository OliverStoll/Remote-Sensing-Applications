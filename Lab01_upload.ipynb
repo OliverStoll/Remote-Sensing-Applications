{
 "cells": [
  {
   "cell_type": "markdown",
   "metadata": {
    "id": "atNCJ50xFrl3"
   },
   "source": [
    "# Sentinel-2 Image Visualization\n",
    "\n",
    "Goal of the lecture:\n",
    "1. Programmatically download a tile from the open and free [scihub.copernicus.eu](https://scihub.copernicus.eu/dhus/#/home) page\n",
    "1. Extract indivdual bands and visualize them\n",
    "1. Create an RGB image of three bands; one true-color and one false-color composite\n",
    "1. Select a sub-region of the tile by defining a region of interest\n",
    "1. Visualize the spectral signature of different land-use/land-cover classes"
   ]
  },
  {
   "cell_type": "markdown",
   "metadata": {},
   "source": [
    "## Downloading the tile\n",
    "\n",
    "Take a look at [scihub.copernicus.eu](https://scihub.copernicus.eu/dhus/#/home) to understand what we are tryig to accomplish with code!\n",
    "\n",
    "To download a specific satellite tile, we have to:\n",
    "1. Sign up for the service\n",
    "1. Select a region of interest\n",
    "1. Query Copernicus to select tiles from target satellite with relevant parameters\n",
    "\n"
   ]
  },
  {
   "cell_type": "markdown",
   "metadata": {
    "id": "AC4NagonLouP"
   },
   "source": [
    "### Import Python libraries\n",
    "\n",
    "If the libraries aren't available on paperspace, make the `ip4rs` IPython Kernel is selected in the top-right corner!\n",
    "\n",
    "If it is not, change the kernel!\n",
    "\n",
    "![](https://doc.cocalc.com/_images/jupyter-classic-change-kernel.png)\n",
    "\n",
    "#### Notes for local installation\n",
    "If you are on your local machine and the Python kernel suddenly dies, it probably means that you have installed incompatible binaries, please try install the dependencies by following the guide from [ip4rs-dependencies](https://github.com/kai-tub/ip4rs-dependencies)."
   ]
  },
  {
   "cell_type": "code",
   "execution_count": 14,
   "metadata": {
    "colab": {
     "base_uri": "https://localhost:8080/"
    },
    "executionInfo": {
     "elapsed": 1960,
     "status": "ok",
     "timestamp": 1618818334836,
     "user": {
      "displayName": "Mat Rb",
      "photoUrl": "https://lh3.googleusercontent.com/a-/AOh14Gik24jvA_yZMp2z50oFh_gbhSlIRnt_v5WBVKY6REE=s64",
      "userId": "17685210069082378191"
     },
     "user_tz": -120
    },
    "id": "-wm7ZCBvHUCZ",
    "outputId": "8d26a7ec-8d09-40ae-b57d-b2b1741de1e5"
   },
   "outputs": [],
   "source": [
    "import numpy as np\n",
    "import geopandas\n",
    "from pathlib import Path\n",
    "import osmnx\n",
    "\n",
    "\n",
    "from sentinelsat import SentinelAPI\n",
    "from datetime import date\n",
    "from shapely.geometry import Point\n",
    "import rasterio\n",
    "import zipfile\n",
    "\n",
    "from enum import Enum\n",
    "from typing import List, Sequence\n",
    "import matplotlib.pyplot as plt\n",
    "\n",
    "import rasterio.mask"
   ]
  },
  {
   "cell_type": "markdown",
   "metadata": {},
   "source": [
    "### Set up credentials"
   ]
  },
  {
   "cell_type": "code",
   "execution_count": 15,
   "metadata": {},
   "outputs": [],
   "source": [
    "# config set via DynaConf\n",
    "# mainly for us to keep our secrets secret ;)\n",
    "from dynaconf import Dynaconf\n",
    "\n",
    "settings = Dynaconf(\n",
    "    envvar_prefix=\"IP4RS\",\n",
    "    settings_files=[\"settings.toml\", \".secrets.toml\"],\n",
    ")\n",
    "###\n",
    "\n",
    "SENTINEL_API_URL = \"https://scihub.copernicus.eu/dhus\"\n",
    "YOUR_USERNAME = \"\"\n",
    "YOUR_PWD = \"\"\n",
    "user = settings.get(\"scihub_copernicus_user\", default=YOUR_USERNAME)\n",
    "pwd = settings.get(\"scihub_copernicus_pwd\", default=YOUR_PWD)\n",
    "\n",
    "assert user != \"\"\n",
    "assert pwd != \"\""
   ]
  },
  {
   "cell_type": "markdown",
   "metadata": {},
   "source": [
    "Let's select a point of interest (POI).\n",
    "For this lab we will use the TU Berlin building.\n",
    "\n",
    "The following code requires the Latitude and Longitude coordinates of the POI.\n",
    "For now, we can simply rely on a service like [LatLong.net](latlong.net) to look up the coordinates:\n",
    "\n",
    "- [TU Berlin coordinates via LatLong.net](https://www.latlong.net/place/technical-university-of-berlin-germany-248.html)"
   ]
  },
  {
   "cell_type": "code",
   "execution_count": 16,
   "metadata": {},
   "outputs": [],
   "source": [
    "latitude = 52.512230\n",
    "longitude = 13.327135"
   ]
  },
  {
   "cell_type": "code",
   "execution_count": 17,
   "metadata": {},
   "outputs": [],
   "source": [
    "# geopandas.GeoSeries?"
   ]
  },
  {
   "cell_type": "code",
   "execution_count": 18,
   "metadata": {},
   "outputs": [
    {
     "data": {
      "text/plain": [
       "0    POINT (13.32714 52.51223)\n",
       "dtype: geometry"
      ]
     },
     "execution_count": 18,
     "metadata": {},
     "output_type": "execute_result"
    }
   ],
   "source": [
    "series = geopandas.GeoSeries([Point(longitude, latitude)], crs=\"EPSG:4326\")\n",
    "series"
   ]
  },
  {
   "cell_type": "code",
   "execution_count": 19,
   "metadata": {},
   "outputs": [
    {
     "data": {
      "text/html": [
       "<div style=\"width:100%;\"><div style=\"position:relative;width:100%;height:0;padding-bottom:60%;\"><span style=\"color:#565656\">Make this Notebook Trusted to load map: File -> Trust Notebook</span><iframe srcdoc=\"&lt;!DOCTYPE html&gt;\n",
       "&lt;head&gt;    \n",
       "    &lt;meta http-equiv=&quot;content-type&quot; content=&quot;text/html; charset=UTF-8&quot; /&gt;\n",
       "    \n",
       "        &lt;script&gt;\n",
       "            L_NO_TOUCH = false;\n",
       "            L_DISABLE_3D = false;\n",
       "        &lt;/script&gt;\n",
       "    \n",
       "    &lt;style&gt;html, body {width: 100%;height: 100%;margin: 0;padding: 0;}&lt;/style&gt;\n",
       "    &lt;style&gt;#map {position:absolute;top:0;bottom:0;right:0;left:0;}&lt;/style&gt;\n",
       "    &lt;script src=&quot;https://cdn.jsdelivr.net/npm/leaflet@1.6.0/dist/leaflet.js&quot;&gt;&lt;/script&gt;\n",
       "    &lt;script src=&quot;https://code.jquery.com/jquery-1.12.4.min.js&quot;&gt;&lt;/script&gt;\n",
       "    &lt;script src=&quot;https://maxcdn.bootstrapcdn.com/bootstrap/3.2.0/js/bootstrap.min.js&quot;&gt;&lt;/script&gt;\n",
       "    &lt;script src=&quot;https://cdnjs.cloudflare.com/ajax/libs/Leaflet.awesome-markers/2.0.2/leaflet.awesome-markers.js&quot;&gt;&lt;/script&gt;\n",
       "    &lt;link rel=&quot;stylesheet&quot; href=&quot;https://cdn.jsdelivr.net/npm/leaflet@1.6.0/dist/leaflet.css&quot;/&gt;\n",
       "    &lt;link rel=&quot;stylesheet&quot; href=&quot;https://maxcdn.bootstrapcdn.com/bootstrap/3.2.0/css/bootstrap.min.css&quot;/&gt;\n",
       "    &lt;link rel=&quot;stylesheet&quot; href=&quot;https://maxcdn.bootstrapcdn.com/bootstrap/3.2.0/css/bootstrap-theme.min.css&quot;/&gt;\n",
       "    &lt;link rel=&quot;stylesheet&quot; href=&quot;https://maxcdn.bootstrapcdn.com/font-awesome/4.6.3/css/font-awesome.min.css&quot;/&gt;\n",
       "    &lt;link rel=&quot;stylesheet&quot; href=&quot;https://cdnjs.cloudflare.com/ajax/libs/Leaflet.awesome-markers/2.0.2/leaflet.awesome-markers.css&quot;/&gt;\n",
       "    &lt;link rel=&quot;stylesheet&quot; href=&quot;https://cdn.jsdelivr.net/gh/python-visualization/folium/folium/templates/leaflet.awesome.rotate.min.css&quot;/&gt;\n",
       "    \n",
       "            &lt;meta name=&quot;viewport&quot; content=&quot;width=device-width,\n",
       "                initial-scale=1.0, maximum-scale=1.0, user-scalable=no&quot; /&gt;\n",
       "            &lt;style&gt;\n",
       "                #map_51f11bbca64337b5150f54b066dd5313 {\n",
       "                    position: relative;\n",
       "                    width: 100.0%;\n",
       "                    height: 100.0%;\n",
       "                    left: 0.0%;\n",
       "                    top: 0.0%;\n",
       "                }\n",
       "            &lt;/style&gt;\n",
       "        \n",
       "&lt;/head&gt;\n",
       "&lt;body&gt;    \n",
       "    \n",
       "            &lt;div class=&quot;folium-map&quot; id=&quot;map_51f11bbca64337b5150f54b066dd5313&quot; &gt;&lt;/div&gt;\n",
       "        \n",
       "&lt;/body&gt;\n",
       "&lt;script&gt;    \n",
       "    \n",
       "            var map_51f11bbca64337b5150f54b066dd5313 = L.map(\n",
       "                &quot;map_51f11bbca64337b5150f54b066dd5313&quot;,\n",
       "                {\n",
       "                    center: [52.51223, 13.327135],\n",
       "                    crs: L.CRS.EPSG3857,\n",
       "                    zoom: 10,\n",
       "                    zoomControl: true,\n",
       "                    preferCanvas: false,\n",
       "                }\n",
       "            );\n",
       "            L.control.scale().addTo(map_51f11bbca64337b5150f54b066dd5313);\n",
       "\n",
       "            \n",
       "\n",
       "        \n",
       "    \n",
       "            var tile_layer_9f9d875e14f026ce6b93a5b9c3a00fa3 = L.tileLayer(\n",
       "                &quot;https://{s}.tile.openstreetmap.org/{z}/{x}/{y}.png&quot;,\n",
       "                {&quot;attribution&quot;: &quot;Data by \\u0026copy; \\u003ca href=\\&quot;http://openstreetmap.org\\&quot;\\u003eOpenStreetMap\\u003c/a\\u003e, under \\u003ca href=\\&quot;http://www.openstreetmap.org/copyright\\&quot;\\u003eODbL\\u003c/a\\u003e.&quot;, &quot;detectRetina&quot;: false, &quot;maxNativeZoom&quot;: 18, &quot;maxZoom&quot;: 18, &quot;minZoom&quot;: 0, &quot;noWrap&quot;: false, &quot;opacity&quot;: 1, &quot;subdomains&quot;: &quot;abc&quot;, &quot;tms&quot;: false}\n",
       "            ).addTo(map_51f11bbca64337b5150f54b066dd5313);\n",
       "        \n",
       "    \n",
       "            map_51f11bbca64337b5150f54b066dd5313.fitBounds(\n",
       "                [[52.51223, 13.327135], [52.51223, 13.327135]],\n",
       "                {}\n",
       "            );\n",
       "        \n",
       "    \n",
       "        function geo_json_fab68f488b293ae1ef314a48c1d4046d_styler(feature) {\n",
       "            switch(feature.id) {\n",
       "                default:\n",
       "                    return {&quot;fillOpacity&quot;: 0.5, &quot;weight&quot;: 2};\n",
       "            }\n",
       "        }\n",
       "        function geo_json_fab68f488b293ae1ef314a48c1d4046d_highlighter(feature) {\n",
       "            switch(feature.id) {\n",
       "                default:\n",
       "                    return {&quot;fillOpacity&quot;: 0.75};\n",
       "            }\n",
       "        }\n",
       "        function geo_json_fab68f488b293ae1ef314a48c1d4046d_pointToLayer(feature, latlng) {\n",
       "            var opts = {};\n",
       "            \n",
       "            let style = geo_json_fab68f488b293ae1ef314a48c1d4046d_styler(feature)\n",
       "            Object.assign(opts, style)\n",
       "            \n",
       "            return new L.Marker(latlng, opts)\n",
       "        }\n",
       "\n",
       "        function geo_json_fab68f488b293ae1ef314a48c1d4046d_onEachFeature(feature, layer) {\n",
       "            layer.on({\n",
       "                mouseout: function(e) {\n",
       "                    if(typeof e.target.setStyle === &quot;function&quot;){\n",
       "                        geo_json_fab68f488b293ae1ef314a48c1d4046d.resetStyle(e.target);\n",
       "                    }\n",
       "                },\n",
       "                mouseover: function(e) {\n",
       "                    if(typeof e.target.setStyle === &quot;function&quot;){\n",
       "                        const highlightStyle = geo_json_fab68f488b293ae1ef314a48c1d4046d_highlighter(e.target.feature)\n",
       "                        e.target.setStyle(highlightStyle);\n",
       "                    }\n",
       "                },\n",
       "            });\n",
       "        };\n",
       "        var geo_json_fab68f488b293ae1ef314a48c1d4046d = L.geoJson(null, {\n",
       "                onEachFeature: geo_json_fab68f488b293ae1ef314a48c1d4046d_onEachFeature,\n",
       "            \n",
       "                style: geo_json_fab68f488b293ae1ef314a48c1d4046d_styler,\n",
       "                pointToLayer: geo_json_fab68f488b293ae1ef314a48c1d4046d_pointToLayer\n",
       "        });\n",
       "\n",
       "        function geo_json_fab68f488b293ae1ef314a48c1d4046d_add (data) {\n",
       "            geo_json_fab68f488b293ae1ef314a48c1d4046d\n",
       "                .addData(data)\n",
       "                .addTo(map_51f11bbca64337b5150f54b066dd5313);\n",
       "        }\n",
       "            geo_json_fab68f488b293ae1ef314a48c1d4046d_add({&quot;bbox&quot;: [13.327135, 52.51223, 13.327135, 52.51223], &quot;features&quot;: [{&quot;bbox&quot;: [13.327135, 52.51223, 13.327135, 52.51223], &quot;geometry&quot;: {&quot;coordinates&quot;: [13.327135, 52.51223], &quot;type&quot;: &quot;Point&quot;}, &quot;id&quot;: &quot;0&quot;, &quot;properties&quot;: {}, &quot;type&quot;: &quot;Feature&quot;}], &quot;type&quot;: &quot;FeatureCollection&quot;});\n",
       "\n",
       "        \n",
       "&lt;/script&gt;\" style=\"position:absolute;width:100%;height:100%;left:0;top:0;border:none !important;\" allowfullscreen webkitallowfullscreen mozallowfullscreen></iframe></div></div>"
      ],
      "text/plain": [
       "<folium.folium.Map at 0x7f56551eebb0>"
      ]
     },
     "execution_count": 19,
     "metadata": {},
     "output_type": "execute_result"
    }
   ],
   "source": [
    "# GeoPandas allows us to very quickly visually inspect our geographical data\n",
    "series.explore(marker_type=\"marker\")"
   ]
  },
  {
   "cell_type": "code",
   "execution_count": 7,
   "metadata": {
    "colab": {
     "base_uri": "https://localhost:8080/"
    },
    "executionInfo": {
     "elapsed": 19926,
     "status": "ok",
     "timestamp": 1618818356288,
     "user": {
      "displayName": "Mat Rb",
      "photoUrl": "https://lh3.googleusercontent.com/a-/AOh14Gik24jvA_yZMp2z50oFh_gbhSlIRnt_v5WBVKY6REE=s64",
      "userId": "17685210069082378191"
     },
     "user_tz": -120
    },
    "id": "UDl8NTDOYF7n",
    "outputId": "15668fa0-21d6-4966-fba5-02b6bac0301f"
   },
   "outputs": [],
   "source": [
    "api_sent = SentinelAPI(user, pwd, SENTINEL_API_URL)\n",
    "# api_sent.query?"
   ]
  },
  {
   "cell_type": "markdown",
   "metadata": {},
   "source": [
    "To query the copernicus database, we need to encode our geometry data into a common format that the service can understand.\n",
    "Looking at the `SentinelAPI` documentation, we can see that the API expect the data to be encoded as a WKT string.\n",
    "\n",
    "WKT stands for well-known text and is a simple text-based format to describe geometries. You can think of it as an [JSON](https://de.wikipedia.org/wiki/JavaScript_Object_Notation) alternative."
   ]
  },
  {
   "cell_type": "code",
   "execution_count": 8,
   "metadata": {},
   "outputs": [
    {
     "data": {
      "text/plain": [
       "0    POINT (13.327135 52.51223)\n",
       "dtype: object"
      ]
     },
     "execution_count": 8,
     "metadata": {},
     "output_type": "execute_result"
    }
   ],
   "source": [
    "series.to_wkt()"
   ]
  },
  {
   "cell_type": "code",
   "execution_count": 9,
   "metadata": {},
   "outputs": [
    {
     "data": {
      "text/plain": [
       "'POINT (13.327135 52.51223)'"
      ]
     },
     "execution_count": 9,
     "metadata": {},
     "output_type": "execute_result"
    }
   ],
   "source": [
    "poi = series.to_wkt()[0]\n",
    "poi"
   ]
  },
  {
   "cell_type": "code",
   "execution_count": 10,
   "metadata": {},
   "outputs": [
    {
     "data": {
      "text/html": [
       "<div>\n",
       "<style scoped>\n",
       "    .dataframe tbody tr th:only-of-type {\n",
       "        vertical-align: middle;\n",
       "    }\n",
       "\n",
       "    .dataframe tbody tr th {\n",
       "        vertical-align: top;\n",
       "    }\n",
       "\n",
       "    .dataframe thead th {\n",
       "        text-align: right;\n",
       "    }\n",
       "</style>\n",
       "<table border=\"1\" class=\"dataframe\">\n",
       "  <thead>\n",
       "    <tr style=\"text-align: right;\">\n",
       "      <th></th>\n",
       "      <th>title</th>\n",
       "      <th>link</th>\n",
       "      <th>link_alternative</th>\n",
       "      <th>link_icon</th>\n",
       "      <th>summary</th>\n",
       "      <th>ondemand</th>\n",
       "      <th>generationdate</th>\n",
       "      <th>beginposition</th>\n",
       "      <th>endposition</th>\n",
       "      <th>ingestiondate</th>\n",
       "      <th>...</th>\n",
       "      <th>producttype</th>\n",
       "      <th>platformidentifier</th>\n",
       "      <th>orbitdirection</th>\n",
       "      <th>platformserialidentifier</th>\n",
       "      <th>processinglevel</th>\n",
       "      <th>datastripidentifier</th>\n",
       "      <th>granuleidentifier</th>\n",
       "      <th>identifier</th>\n",
       "      <th>uuid</th>\n",
       "      <th>geometry</th>\n",
       "    </tr>\n",
       "  </thead>\n",
       "  <tbody>\n",
       "    <tr>\n",
       "      <th>58902f9e-3457-4d73-ad99-2989059941ab</th>\n",
       "      <td>S2B_MSIL2A_20220324T100649_N0400_R022_T33UUU_2...</td>\n",
       "      <td>https://scihub.copernicus.eu/dhus/odata/v1/Pro...</td>\n",
       "      <td>https://scihub.copernicus.eu/dhus/odata/v1/Pro...</td>\n",
       "      <td>https://scihub.copernicus.eu/dhus/odata/v1/Pro...</td>\n",
       "      <td>Date: 2022-03-24T10:06:49.024Z, Instrument: MS...</td>\n",
       "      <td>false</td>\n",
       "      <td>2022-03-24 13:23:05</td>\n",
       "      <td>2022-03-24 10:06:49.024</td>\n",
       "      <td>2022-03-24 10:06:49.024</td>\n",
       "      <td>2022-03-24 16:46:42.329</td>\n",
       "      <td>...</td>\n",
       "      <td>S2MSI2A</td>\n",
       "      <td>2017-013A</td>\n",
       "      <td>DESCENDING</td>\n",
       "      <td>Sentinel-2B</td>\n",
       "      <td>Level-2A</td>\n",
       "      <td>S2B_OPER_MSI_L2A_DS_VGS2_20220324T132305_S2022...</td>\n",
       "      <td>S2B_OPER_MSI_L2A_TL_VGS2_20220324T132305_A0263...</td>\n",
       "      <td>S2B_MSIL2A_20220324T100649_N0400_R022_T33UUU_2...</td>\n",
       "      <td>58902f9e-3457-4d73-ad99-2989059941ab</td>\n",
       "      <td>MULTIPOLYGON (((12.35312 52.23128, 13.67854 52...</td>\n",
       "    </tr>\n",
       "  </tbody>\n",
       "</table>\n",
       "<p>1 rows × 41 columns</p>\n",
       "</div>"
      ],
      "text/plain": [
       "                                                                                  title  \\\n",
       "58902f9e-3457-4d73-ad99-2989059941ab  S2B_MSIL2A_20220324T100649_N0400_R022_T33UUU_2...   \n",
       "\n",
       "                                                                                   link  \\\n",
       "58902f9e-3457-4d73-ad99-2989059941ab  https://scihub.copernicus.eu/dhus/odata/v1/Pro...   \n",
       "\n",
       "                                                                       link_alternative  \\\n",
       "58902f9e-3457-4d73-ad99-2989059941ab  https://scihub.copernicus.eu/dhus/odata/v1/Pro...   \n",
       "\n",
       "                                                                              link_icon  \\\n",
       "58902f9e-3457-4d73-ad99-2989059941ab  https://scihub.copernicus.eu/dhus/odata/v1/Pro...   \n",
       "\n",
       "                                                                                summary  \\\n",
       "58902f9e-3457-4d73-ad99-2989059941ab  Date: 2022-03-24T10:06:49.024Z, Instrument: MS...   \n",
       "\n",
       "                                     ondemand      generationdate  \\\n",
       "58902f9e-3457-4d73-ad99-2989059941ab    false 2022-03-24 13:23:05   \n",
       "\n",
       "                                               beginposition  \\\n",
       "58902f9e-3457-4d73-ad99-2989059941ab 2022-03-24 10:06:49.024   \n",
       "\n",
       "                                                 endposition  \\\n",
       "58902f9e-3457-4d73-ad99-2989059941ab 2022-03-24 10:06:49.024   \n",
       "\n",
       "                                               ingestiondate  ...  \\\n",
       "58902f9e-3457-4d73-ad99-2989059941ab 2022-03-24 16:46:42.329  ...   \n",
       "\n",
       "                                      producttype  platformidentifier  \\\n",
       "58902f9e-3457-4d73-ad99-2989059941ab      S2MSI2A           2017-013A   \n",
       "\n",
       "                                      orbitdirection  \\\n",
       "58902f9e-3457-4d73-ad99-2989059941ab      DESCENDING   \n",
       "\n",
       "                                      platformserialidentifier  \\\n",
       "58902f9e-3457-4d73-ad99-2989059941ab               Sentinel-2B   \n",
       "\n",
       "                                      processinglevel  \\\n",
       "58902f9e-3457-4d73-ad99-2989059941ab         Level-2A   \n",
       "\n",
       "                                                                    datastripidentifier  \\\n",
       "58902f9e-3457-4d73-ad99-2989059941ab  S2B_OPER_MSI_L2A_DS_VGS2_20220324T132305_S2022...   \n",
       "\n",
       "                                                                      granuleidentifier  \\\n",
       "58902f9e-3457-4d73-ad99-2989059941ab  S2B_OPER_MSI_L2A_TL_VGS2_20220324T132305_A0263...   \n",
       "\n",
       "                                                                             identifier  \\\n",
       "58902f9e-3457-4d73-ad99-2989059941ab  S2B_MSIL2A_20220324T100649_N0400_R022_T33UUU_2...   \n",
       "\n",
       "                                                                      uuid  \\\n",
       "58902f9e-3457-4d73-ad99-2989059941ab  58902f9e-3457-4d73-ad99-2989059941ab   \n",
       "\n",
       "                                                                               geometry  \n",
       "58902f9e-3457-4d73-ad99-2989059941ab  MULTIPOLYGON (((12.35312 52.23128, 13.67854 52...  \n",
       "\n",
       "[1 rows x 41 columns]"
      ]
     },
     "execution_count": 10,
     "metadata": {},
     "output_type": "execute_result"
    }
   ],
   "source": [
    "start_date = date(year=2022, month=3, day=1)\n",
    "end_date = date(year=2022, month=4, day=30)\n",
    "satellite = \"Sentinel-2\"\n",
    "producttype = \"S2MSI2A\"\n",
    "\n",
    "products = api_sent.query(\n",
    "    poi,\n",
    "    date=(start_date, end_date),\n",
    "    platformname=satellite,\n",
    "    producttype=producttype,\n",
    "    cloudcoverpercentage=(0, 10),\n",
    ")\n",
    "\n",
    "# convert to GeoPandas GeoDataFrame\n",
    "products_gdf = api_sent.to_geodataframe(products)\n",
    "assert not products_gdf.empty\n",
    "products_gdf.head(1)\n",
    "# If you get an internal-service error, simply try again"
   ]
  },
  {
   "cell_type": "code",
   "execution_count": 11,
   "metadata": {},
   "outputs": [
    {
     "data": {
      "text/html": [
       "<div>\n",
       "<style scoped>\n",
       "    .dataframe tbody tr th:only-of-type {\n",
       "        vertical-align: middle;\n",
       "    }\n",
       "\n",
       "    .dataframe tbody tr th {\n",
       "        vertical-align: top;\n",
       "    }\n",
       "\n",
       "    .dataframe thead th {\n",
       "        text-align: right;\n",
       "    }\n",
       "</style>\n",
       "<table border=\"1\" class=\"dataframe\">\n",
       "  <thead>\n",
       "    <tr style=\"text-align: right;\">\n",
       "      <th></th>\n",
       "      <th>title</th>\n",
       "      <th>link</th>\n",
       "      <th>link_alternative</th>\n",
       "      <th>link_icon</th>\n",
       "      <th>summary</th>\n",
       "      <th>ondemand</th>\n",
       "      <th>generationdate</th>\n",
       "      <th>beginposition</th>\n",
       "      <th>endposition</th>\n",
       "      <th>ingestiondate</th>\n",
       "      <th>...</th>\n",
       "      <th>producttype</th>\n",
       "      <th>platformidentifier</th>\n",
       "      <th>orbitdirection</th>\n",
       "      <th>platformserialidentifier</th>\n",
       "      <th>processinglevel</th>\n",
       "      <th>datastripidentifier</th>\n",
       "      <th>granuleidentifier</th>\n",
       "      <th>identifier</th>\n",
       "      <th>uuid</th>\n",
       "      <th>geometry</th>\n",
       "    </tr>\n",
       "  </thead>\n",
       "  <tbody>\n",
       "    <tr>\n",
       "      <th>6e5ad1c9-fc0e-4b93-9b5c-d0d401673206</th>\n",
       "      <td>S2A_MSIL2A_20220309T100841_N0400_R022_T32UQD_2...</td>\n",
       "      <td>https://scihub.copernicus.eu/dhus/odata/v1/Pro...</td>\n",
       "      <td>https://scihub.copernicus.eu/dhus/odata/v1/Pro...</td>\n",
       "      <td>https://scihub.copernicus.eu/dhus/odata/v1/Pro...</td>\n",
       "      <td>Date: 2022-03-09T10:08:41.024Z, Instrument: MS...</td>\n",
       "      <td>false</td>\n",
       "      <td>2022-03-09 12:18:49</td>\n",
       "      <td>2022-03-09 10:08:41.024</td>\n",
       "      <td>2022-03-09 10:08:41.024</td>\n",
       "      <td>2022-03-09 17:48:53.772</td>\n",
       "      <td>...</td>\n",
       "      <td>S2MSI2A</td>\n",
       "      <td>2015-028A</td>\n",
       "      <td>DESCENDING</td>\n",
       "      <td>Sentinel-2A</td>\n",
       "      <td>Level-2A</td>\n",
       "      <td>S2A_OPER_MSI_L2A_DS_VGS4_20220309T121849_S2022...</td>\n",
       "      <td>S2A_OPER_MSI_L2A_TL_VGS4_20220309T121849_A0350...</td>\n",
       "      <td>S2A_MSIL2A_20220309T100841_N0400_R022_T32UQD_2...</td>\n",
       "      <td>6e5ad1c9-fc0e-4b93-9b5c-d0d401673206</td>\n",
       "      <td>MULTIPOLYGON (((13.53103 52.17548, 13.63418 53...</td>\n",
       "    </tr>\n",
       "  </tbody>\n",
       "</table>\n",
       "<p>1 rows × 41 columns</p>\n",
       "</div>"
      ],
      "text/plain": [
       "                                                                                  title  \\\n",
       "6e5ad1c9-fc0e-4b93-9b5c-d0d401673206  S2A_MSIL2A_20220309T100841_N0400_R022_T32UQD_2...   \n",
       "\n",
       "                                                                                   link  \\\n",
       "6e5ad1c9-fc0e-4b93-9b5c-d0d401673206  https://scihub.copernicus.eu/dhus/odata/v1/Pro...   \n",
       "\n",
       "                                                                       link_alternative  \\\n",
       "6e5ad1c9-fc0e-4b93-9b5c-d0d401673206  https://scihub.copernicus.eu/dhus/odata/v1/Pro...   \n",
       "\n",
       "                                                                              link_icon  \\\n",
       "6e5ad1c9-fc0e-4b93-9b5c-d0d401673206  https://scihub.copernicus.eu/dhus/odata/v1/Pro...   \n",
       "\n",
       "                                                                                summary  \\\n",
       "6e5ad1c9-fc0e-4b93-9b5c-d0d401673206  Date: 2022-03-09T10:08:41.024Z, Instrument: MS...   \n",
       "\n",
       "                                     ondemand      generationdate  \\\n",
       "6e5ad1c9-fc0e-4b93-9b5c-d0d401673206    false 2022-03-09 12:18:49   \n",
       "\n",
       "                                               beginposition  \\\n",
       "6e5ad1c9-fc0e-4b93-9b5c-d0d401673206 2022-03-09 10:08:41.024   \n",
       "\n",
       "                                                 endposition  \\\n",
       "6e5ad1c9-fc0e-4b93-9b5c-d0d401673206 2022-03-09 10:08:41.024   \n",
       "\n",
       "                                               ingestiondate  ...  \\\n",
       "6e5ad1c9-fc0e-4b93-9b5c-d0d401673206 2022-03-09 17:48:53.772  ...   \n",
       "\n",
       "                                      producttype  platformidentifier  \\\n",
       "6e5ad1c9-fc0e-4b93-9b5c-d0d401673206      S2MSI2A           2015-028A   \n",
       "\n",
       "                                      orbitdirection  \\\n",
       "6e5ad1c9-fc0e-4b93-9b5c-d0d401673206      DESCENDING   \n",
       "\n",
       "                                      platformserialidentifier  \\\n",
       "6e5ad1c9-fc0e-4b93-9b5c-d0d401673206               Sentinel-2A   \n",
       "\n",
       "                                      processinglevel  \\\n",
       "6e5ad1c9-fc0e-4b93-9b5c-d0d401673206         Level-2A   \n",
       "\n",
       "                                                                    datastripidentifier  \\\n",
       "6e5ad1c9-fc0e-4b93-9b5c-d0d401673206  S2A_OPER_MSI_L2A_DS_VGS4_20220309T121849_S2022...   \n",
       "\n",
       "                                                                      granuleidentifier  \\\n",
       "6e5ad1c9-fc0e-4b93-9b5c-d0d401673206  S2A_OPER_MSI_L2A_TL_VGS4_20220309T121849_A0350...   \n",
       "\n",
       "                                                                             identifier  \\\n",
       "6e5ad1c9-fc0e-4b93-9b5c-d0d401673206  S2A_MSIL2A_20220309T100841_N0400_R022_T32UQD_2...   \n",
       "\n",
       "                                                                      uuid  \\\n",
       "6e5ad1c9-fc0e-4b93-9b5c-d0d401673206  6e5ad1c9-fc0e-4b93-9b5c-d0d401673206   \n",
       "\n",
       "                                                                               geometry  \n",
       "6e5ad1c9-fc0e-4b93-9b5c-d0d401673206  MULTIPOLYGON (((13.53103 52.17548, 13.63418 53...  \n",
       "\n",
       "[1 rows x 41 columns]"
      ]
     },
     "execution_count": 11,
     "metadata": {},
     "output_type": "execute_result"
    }
   ],
   "source": [
    "# sort and select the first row\n",
    "product = products_gdf.sort_values(\n",
    "    [\"cloudcoverpercentage\", \"ingestiondate\"], ascending=[True, True]\n",
    ").head(1)\n",
    "product"
   ]
  },
  {
   "cell_type": "code",
   "execution_count": 12,
   "metadata": {},
   "outputs": [],
   "source": [
    "# ensuring that the tile is the one we are also providing via a direct\n",
    "# download link\n",
    "assert product[\"title\"][0] == \"S2A_MSIL2A_20220309T100841_N0400_R022_T32UQD_20220309T121849\""
   ]
  },
  {
   "cell_type": "code",
   "execution_count": 13,
   "metadata": {},
   "outputs": [
    {
     "data": {
      "text/html": [
       "<div style=\"width:100%;\"><div style=\"position:relative;width:100%;height:0;padding-bottom:60%;\"><span style=\"color:#565656\">Make this Notebook Trusted to load map: File -> Trust Notebook</span><iframe srcdoc=\"&lt;!DOCTYPE html&gt;\n",
       "&lt;head&gt;    \n",
       "    &lt;meta http-equiv=&quot;content-type&quot; content=&quot;text/html; charset=UTF-8&quot; /&gt;\n",
       "    \n",
       "        &lt;script&gt;\n",
       "            L_NO_TOUCH = false;\n",
       "            L_DISABLE_3D = false;\n",
       "        &lt;/script&gt;\n",
       "    \n",
       "    &lt;style&gt;html, body {width: 100%;height: 100%;margin: 0;padding: 0;}&lt;/style&gt;\n",
       "    &lt;style&gt;#map {position:absolute;top:0;bottom:0;right:0;left:0;}&lt;/style&gt;\n",
       "    &lt;script src=&quot;https://cdn.jsdelivr.net/npm/leaflet@1.6.0/dist/leaflet.js&quot;&gt;&lt;/script&gt;\n",
       "    &lt;script src=&quot;https://code.jquery.com/jquery-1.12.4.min.js&quot;&gt;&lt;/script&gt;\n",
       "    &lt;script src=&quot;https://maxcdn.bootstrapcdn.com/bootstrap/3.2.0/js/bootstrap.min.js&quot;&gt;&lt;/script&gt;\n",
       "    &lt;script src=&quot;https://cdnjs.cloudflare.com/ajax/libs/Leaflet.awesome-markers/2.0.2/leaflet.awesome-markers.js&quot;&gt;&lt;/script&gt;\n",
       "    &lt;link rel=&quot;stylesheet&quot; href=&quot;https://cdn.jsdelivr.net/npm/leaflet@1.6.0/dist/leaflet.css&quot;/&gt;\n",
       "    &lt;link rel=&quot;stylesheet&quot; href=&quot;https://maxcdn.bootstrapcdn.com/bootstrap/3.2.0/css/bootstrap.min.css&quot;/&gt;\n",
       "    &lt;link rel=&quot;stylesheet&quot; href=&quot;https://maxcdn.bootstrapcdn.com/bootstrap/3.2.0/css/bootstrap-theme.min.css&quot;/&gt;\n",
       "    &lt;link rel=&quot;stylesheet&quot; href=&quot;https://maxcdn.bootstrapcdn.com/font-awesome/4.6.3/css/font-awesome.min.css&quot;/&gt;\n",
       "    &lt;link rel=&quot;stylesheet&quot; href=&quot;https://cdnjs.cloudflare.com/ajax/libs/Leaflet.awesome-markers/2.0.2/leaflet.awesome-markers.css&quot;/&gt;\n",
       "    &lt;link rel=&quot;stylesheet&quot; href=&quot;https://cdn.jsdelivr.net/gh/python-visualization/folium/folium/templates/leaflet.awesome.rotate.min.css&quot;/&gt;\n",
       "    \n",
       "            &lt;meta name=&quot;viewport&quot; content=&quot;width=device-width,\n",
       "                initial-scale=1.0, maximum-scale=1.0, user-scalable=no&quot; /&gt;\n",
       "            &lt;style&gt;\n",
       "                #map_02de7ecdad31198c7dbb206018e62f0e {\n",
       "                    position: relative;\n",
       "                    width: 100.0%;\n",
       "                    height: 100.0%;\n",
       "                    left: 0.0%;\n",
       "                    top: 0.0%;\n",
       "                }\n",
       "            &lt;/style&gt;\n",
       "        \n",
       "    \n",
       "                    &lt;style&gt;\n",
       "                        .foliumtooltip {\n",
       "                            \n",
       "                        }\n",
       "                       .foliumtooltip table{\n",
       "                            margin: auto;\n",
       "                        }\n",
       "                        .foliumtooltip tr{\n",
       "                            text-align: left;\n",
       "                        }\n",
       "                        .foliumtooltip th{\n",
       "                            padding: 2px; padding-right: 8px;\n",
       "                        }\n",
       "                    &lt;/style&gt;\n",
       "            \n",
       "&lt;/head&gt;\n",
       "&lt;body&gt;    \n",
       "    \n",
       "            &lt;div class=&quot;folium-map&quot; id=&quot;map_02de7ecdad31198c7dbb206018e62f0e&quot; &gt;&lt;/div&gt;\n",
       "        \n",
       "&lt;/body&gt;\n",
       "&lt;script&gt;    \n",
       "    \n",
       "            var map_02de7ecdad31198c7dbb206018e62f0e = L.map(\n",
       "                &quot;map_02de7ecdad31198c7dbb206018e62f0e&quot;,\n",
       "                {\n",
       "                    center: [52.681383482651256, 12.98812122238234],\n",
       "                    crs: L.CRS.EPSG3857,\n",
       "                    zoom: 10,\n",
       "                    zoomControl: true,\n",
       "                    preferCanvas: false,\n",
       "                }\n",
       "            );\n",
       "            L.control.scale().addTo(map_02de7ecdad31198c7dbb206018e62f0e);\n",
       "\n",
       "            \n",
       "\n",
       "        \n",
       "    \n",
       "            var tile_layer_d0df46b7e5d73b456b11781c297bec70 = L.tileLayer(\n",
       "                &quot;https://{s}.tile.openstreetmap.org/{z}/{x}/{y}.png&quot;,\n",
       "                {&quot;attribution&quot;: &quot;Data by \\u0026copy; \\u003ca href=\\&quot;http://openstreetmap.org\\&quot;\\u003eOpenStreetMap\\u003c/a\\u003e, under \\u003ca href=\\&quot;http://www.openstreetmap.org/copyright\\&quot;\\u003eODbL\\u003c/a\\u003e.&quot;, &quot;detectRetina&quot;: false, &quot;maxNativeZoom&quot;: 18, &quot;maxZoom&quot;: 18, &quot;minZoom&quot;: 0, &quot;noWrap&quot;: false, &quot;opacity&quot;: 1, &quot;subdomains&quot;: &quot;abc&quot;, &quot;tms&quot;: false}\n",
       "            ).addTo(map_02de7ecdad31198c7dbb206018e62f0e);\n",
       "        \n",
       "    \n",
       "            map_02de7ecdad31198c7dbb206018e62f0e.fitBounds(\n",
       "                [[52.17548471916956, 12.342059427315457], [53.187282246132945, 13.634183017449221]],\n",
       "                {}\n",
       "            );\n",
       "        \n",
       "    \n",
       "        function geo_json_9ae54360b27f08411da14dcb7562ea45_styler(feature) {\n",
       "            switch(feature.id) {\n",
       "                default:\n",
       "                    return {&quot;fillOpacity&quot;: 0.5, &quot;weight&quot;: 2};\n",
       "            }\n",
       "        }\n",
       "        function geo_json_9ae54360b27f08411da14dcb7562ea45_highlighter(feature) {\n",
       "            switch(feature.id) {\n",
       "                default:\n",
       "                    return {&quot;fillOpacity&quot;: 0.75};\n",
       "            }\n",
       "        }\n",
       "        function geo_json_9ae54360b27f08411da14dcb7562ea45_pointToLayer(feature, latlng) {\n",
       "            var opts = {&quot;bubblingMouseEvents&quot;: true, &quot;color&quot;: &quot;#3388ff&quot;, &quot;dashArray&quot;: null, &quot;dashOffset&quot;: null, &quot;fill&quot;: true, &quot;fillColor&quot;: &quot;#3388ff&quot;, &quot;fillOpacity&quot;: 0.2, &quot;fillRule&quot;: &quot;evenodd&quot;, &quot;lineCap&quot;: &quot;round&quot;, &quot;lineJoin&quot;: &quot;round&quot;, &quot;opacity&quot;: 1.0, &quot;radius&quot;: 2, &quot;stroke&quot;: true, &quot;weight&quot;: 3};\n",
       "            \n",
       "            let style = geo_json_9ae54360b27f08411da14dcb7562ea45_styler(feature)\n",
       "            Object.assign(opts, style)\n",
       "            \n",
       "            return new L.CircleMarker(latlng, opts)\n",
       "        }\n",
       "\n",
       "        function geo_json_9ae54360b27f08411da14dcb7562ea45_onEachFeature(feature, layer) {\n",
       "            layer.on({\n",
       "                mouseout: function(e) {\n",
       "                    if(typeof e.target.setStyle === &quot;function&quot;){\n",
       "                        geo_json_9ae54360b27f08411da14dcb7562ea45.resetStyle(e.target);\n",
       "                    }\n",
       "                },\n",
       "                mouseover: function(e) {\n",
       "                    if(typeof e.target.setStyle === &quot;function&quot;){\n",
       "                        const highlightStyle = geo_json_9ae54360b27f08411da14dcb7562ea45_highlighter(e.target.feature)\n",
       "                        e.target.setStyle(highlightStyle);\n",
       "                    }\n",
       "                },\n",
       "            });\n",
       "        };\n",
       "        var geo_json_9ae54360b27f08411da14dcb7562ea45 = L.geoJson(null, {\n",
       "                onEachFeature: geo_json_9ae54360b27f08411da14dcb7562ea45_onEachFeature,\n",
       "            \n",
       "                style: geo_json_9ae54360b27f08411da14dcb7562ea45_styler,\n",
       "                pointToLayer: geo_json_9ae54360b27f08411da14dcb7562ea45_pointToLayer\n",
       "        });\n",
       "\n",
       "        function geo_json_9ae54360b27f08411da14dcb7562ea45_add (data) {\n",
       "            geo_json_9ae54360b27f08411da14dcb7562ea45\n",
       "                .addData(data)\n",
       "                .addTo(map_02de7ecdad31198c7dbb206018e62f0e);\n",
       "        }\n",
       "            geo_json_9ae54360b27f08411da14dcb7562ea45_add({&quot;bbox&quot;: [12.342059427315457, 52.17548471916956, 13.634183017449221, 53.187282246132945], &quot;features&quot;: [{&quot;bbox&quot;: [12.342059427315457, 52.17548471916956, 13.634183017449221, 53.187282246132945], &quot;geometry&quot;: {&quot;coordinates&quot;: [[[[13.531032170485291, 52.17548471916956], [13.634183017449221, 53.1594219676414], [12.76529746160273, 53.187282246132945], [12.704357800486193, 53.0485772120484], [12.640490191379422, 52.90307423008552], [12.576982162138806, 52.75747789678504], [12.513698899350029, 52.61180694780025], [12.45039793075864, 52.46613201756698], [12.387745296304407, 52.32038093809204], [12.342059427315457, 52.213114970744876], [13.531032170485291, 52.17548471916956]]]], &quot;type&quot;: &quot;MultiPolygon&quot;}, &quot;id&quot;: &quot;6e5ad1c9-fc0e-4b93-9b5c-d0d401673206&quot;, &quot;properties&quot;: {&quot;summary&quot;: &quot;Date: 2022-03-09T10:08:41.024Z, Instrument: MSI, Satellite: Sentinel-2, Size: 779.71 MB&quot;, &quot;title&quot;: &quot;S2A_MSIL2A_20220309T100841_N0400_R022_T32UQD_20220309T121849&quot;}, &quot;type&quot;: &quot;Feature&quot;}], &quot;type&quot;: &quot;FeatureCollection&quot;});\n",
       "\n",
       "        \n",
       "    \n",
       "    geo_json_9ae54360b27f08411da14dcb7562ea45.bindTooltip(\n",
       "    function(layer){\n",
       "    let div = L.DomUtil.create(&#x27;div&#x27;);\n",
       "    \n",
       "    let handleObject = feature=&gt;typeof(feature)==&#x27;object&#x27; ? JSON.stringify(feature) : feature;\n",
       "    let fields = [&quot;title&quot;, &quot;summary&quot;];\n",
       "    let aliases = [&quot;title&quot;, &quot;summary&quot;];\n",
       "    let table = &#x27;&lt;table&gt;&#x27; +\n",
       "        String(\n",
       "        fields.map(\n",
       "        (v,i)=&gt;\n",
       "        `&lt;tr&gt;\n",
       "            &lt;th&gt;${aliases[i]}&lt;/th&gt;\n",
       "            \n",
       "            &lt;td&gt;${handleObject(layer.feature.properties[v])}&lt;/td&gt;\n",
       "        &lt;/tr&gt;`).join(&#x27;&#x27;))\n",
       "    +&#x27;&lt;/table&gt;&#x27;;\n",
       "    div.innerHTML=table;\n",
       "    \n",
       "    return div\n",
       "    }\n",
       "    ,{&quot;className&quot;: &quot;foliumtooltip&quot;, &quot;sticky&quot;: true});\n",
       "                     \n",
       "&lt;/script&gt;\" style=\"position:absolute;width:100%;height:100%;left:0;top:0;border:none !important;\" allowfullscreen webkitallowfullscreen mozallowfullscreen></iframe></div></div>"
      ],
      "text/plain": [
       "<folium.folium.Map at 0x7f56552624f0>"
      ]
     },
     "execution_count": 13,
     "metadata": {},
     "output_type": "execute_result"
    }
   ],
   "source": [
    "# Would fail, because there are entries that cannot be JSON encoded!\n",
    "# product.explore()\n",
    "# Only visualize the relevant columns and convert them if necessary\n",
    "product[[\"title\", \"summary\", \"geometry\"]].explore()"
   ]
  },
  {
   "cell_type": "markdown",
   "metadata": {
    "id": "Zl7It4oWPKRt"
   },
   "source": [
    "### Download the tile"
   ]
  },
  {
   "cell_type": "code",
   "execution_count": 29,
   "metadata": {},
   "outputs": [
    {
     "data": {
      "text/html": [
       "<div>\n",
       "<style scoped>\n",
       "    .dataframe tbody tr th:only-of-type {\n",
       "        vertical-align: middle;\n",
       "    }\n",
       "\n",
       "    .dataframe tbody tr th {\n",
       "        vertical-align: top;\n",
       "    }\n",
       "\n",
       "    .dataframe thead th {\n",
       "        text-align: right;\n",
       "    }\n",
       "</style>\n",
       "<table border=\"1\" class=\"dataframe\">\n",
       "  <thead>\n",
       "    <tr style=\"text-align: right;\">\n",
       "      <th></th>\n",
       "      <th>title</th>\n",
       "      <th>link</th>\n",
       "      <th>link_alternative</th>\n",
       "      <th>link_icon</th>\n",
       "      <th>summary</th>\n",
       "      <th>ondemand</th>\n",
       "      <th>generationdate</th>\n",
       "      <th>beginposition</th>\n",
       "      <th>endposition</th>\n",
       "      <th>ingestiondate</th>\n",
       "      <th>...</th>\n",
       "      <th>producttype</th>\n",
       "      <th>platformidentifier</th>\n",
       "      <th>orbitdirection</th>\n",
       "      <th>platformserialidentifier</th>\n",
       "      <th>processinglevel</th>\n",
       "      <th>datastripidentifier</th>\n",
       "      <th>granuleidentifier</th>\n",
       "      <th>identifier</th>\n",
       "      <th>uuid</th>\n",
       "      <th>geometry</th>\n",
       "    </tr>\n",
       "  </thead>\n",
       "  <tbody>\n",
       "    <tr>\n",
       "      <th>6e5ad1c9-fc0e-4b93-9b5c-d0d401673206</th>\n",
       "      <td>S2A_MSIL2A_20220309T100841_N0400_R022_T32UQD_2...</td>\n",
       "      <td>https://scihub.copernicus.eu/dhus/odata/v1/Pro...</td>\n",
       "      <td>https://scihub.copernicus.eu/dhus/odata/v1/Pro...</td>\n",
       "      <td>https://scihub.copernicus.eu/dhus/odata/v1/Pro...</td>\n",
       "      <td>Date: 2022-03-09T10:08:41.024Z, Instrument: MS...</td>\n",
       "      <td>false</td>\n",
       "      <td>2022-03-09 12:18:49</td>\n",
       "      <td>2022-03-09 10:08:41.024</td>\n",
       "      <td>2022-03-09 10:08:41.024</td>\n",
       "      <td>2022-03-09 17:48:53.772</td>\n",
       "      <td>...</td>\n",
       "      <td>S2MSI2A</td>\n",
       "      <td>2015-028A</td>\n",
       "      <td>DESCENDING</td>\n",
       "      <td>Sentinel-2A</td>\n",
       "      <td>Level-2A</td>\n",
       "      <td>S2A_OPER_MSI_L2A_DS_VGS4_20220309T121849_S2022...</td>\n",
       "      <td>S2A_OPER_MSI_L2A_TL_VGS4_20220309T121849_A0350...</td>\n",
       "      <td>S2A_MSIL2A_20220309T100841_N0400_R022_T32UQD_2...</td>\n",
       "      <td>6e5ad1c9-fc0e-4b93-9b5c-d0d401673206</td>\n",
       "      <td>MULTIPOLYGON (((13.53103 52.17548, 13.63418 53...</td>\n",
       "    </tr>\n",
       "  </tbody>\n",
       "</table>\n",
       "<p>1 rows × 41 columns</p>\n",
       "</div>"
      ],
      "text/plain": [
       "                                                                                  title  \\\n",
       "6e5ad1c9-fc0e-4b93-9b5c-d0d401673206  S2A_MSIL2A_20220309T100841_N0400_R022_T32UQD_2...   \n",
       "\n",
       "                                                                                   link  \\\n",
       "6e5ad1c9-fc0e-4b93-9b5c-d0d401673206  https://scihub.copernicus.eu/dhus/odata/v1/Pro...   \n",
       "\n",
       "                                                                       link_alternative  \\\n",
       "6e5ad1c9-fc0e-4b93-9b5c-d0d401673206  https://scihub.copernicus.eu/dhus/odata/v1/Pro...   \n",
       "\n",
       "                                                                              link_icon  \\\n",
       "6e5ad1c9-fc0e-4b93-9b5c-d0d401673206  https://scihub.copernicus.eu/dhus/odata/v1/Pro...   \n",
       "\n",
       "                                                                                summary  \\\n",
       "6e5ad1c9-fc0e-4b93-9b5c-d0d401673206  Date: 2022-03-09T10:08:41.024Z, Instrument: MS...   \n",
       "\n",
       "                                     ondemand      generationdate  \\\n",
       "6e5ad1c9-fc0e-4b93-9b5c-d0d401673206    false 2022-03-09 12:18:49   \n",
       "\n",
       "                                               beginposition  \\\n",
       "6e5ad1c9-fc0e-4b93-9b5c-d0d401673206 2022-03-09 10:08:41.024   \n",
       "\n",
       "                                                 endposition  \\\n",
       "6e5ad1c9-fc0e-4b93-9b5c-d0d401673206 2022-03-09 10:08:41.024   \n",
       "\n",
       "                                               ingestiondate  ...  \\\n",
       "6e5ad1c9-fc0e-4b93-9b5c-d0d401673206 2022-03-09 17:48:53.772  ...   \n",
       "\n",
       "                                      producttype  platformidentifier  \\\n",
       "6e5ad1c9-fc0e-4b93-9b5c-d0d401673206      S2MSI2A           2015-028A   \n",
       "\n",
       "                                      orbitdirection  \\\n",
       "6e5ad1c9-fc0e-4b93-9b5c-d0d401673206      DESCENDING   \n",
       "\n",
       "                                      platformserialidentifier  \\\n",
       "6e5ad1c9-fc0e-4b93-9b5c-d0d401673206               Sentinel-2A   \n",
       "\n",
       "                                      processinglevel  \\\n",
       "6e5ad1c9-fc0e-4b93-9b5c-d0d401673206         Level-2A   \n",
       "\n",
       "                                                                    datastripidentifier  \\\n",
       "6e5ad1c9-fc0e-4b93-9b5c-d0d401673206  S2A_OPER_MSI_L2A_DS_VGS4_20220309T121849_S2022...   \n",
       "\n",
       "                                                                      granuleidentifier  \\\n",
       "6e5ad1c9-fc0e-4b93-9b5c-d0d401673206  S2A_OPER_MSI_L2A_TL_VGS4_20220309T121849_A0350...   \n",
       "\n",
       "                                                                             identifier  \\\n",
       "6e5ad1c9-fc0e-4b93-9b5c-d0d401673206  S2A_MSIL2A_20220309T100841_N0400_R022_T32UQD_2...   \n",
       "\n",
       "                                                                      uuid  \\\n",
       "6e5ad1c9-fc0e-4b93-9b5c-d0d401673206  6e5ad1c9-fc0e-4b93-9b5c-d0d401673206   \n",
       "\n",
       "                                                                               geometry  \n",
       "6e5ad1c9-fc0e-4b93-9b5c-d0d401673206  MULTIPOLYGON (((13.53103 52.17548, 13.63418 53...  \n",
       "\n",
       "[1 rows x 41 columns]"
      ]
     },
     "execution_count": 29,
     "metadata": {},
     "output_type": "execute_result"
    }
   ],
   "source": [
    "product"
   ]
  },
  {
   "cell_type": "code",
   "execution_count": 20,
   "metadata": {
    "colab": {
     "base_uri": "https://localhost:8080/"
    },
    "executionInfo": {
     "elapsed": 2726,
     "status": "ok",
     "timestamp": 1618818362347,
     "user": {
      "displayName": "Mat Rb",
      "photoUrl": "https://lh3.googleusercontent.com/a-/AOh14Gik24jvA_yZMp2z50oFh_gbhSlIRnt_v5WBVKY6REE=s64",
      "userId": "17685210069082378191"
     },
     "user_tz": -120
    },
    "id": "YBKj8TTPYGNU",
    "outputId": "b1d9c5c9-7047-42e9-dc3f-18a12b24fe53"
   },
   "outputs": [],
   "source": [
    "download_dir = Path(\"./data\")\n",
    "download_dir.mkdir(exist_ok=True)\n",
    "\n",
    "# ~800MB large!\n",
    "# May take a while to download\n",
    "# The download is very slow from their server\n",
    "\n",
    "# output_file = download_dir / f\"{product.title[0]}.zip\"\n",
    "# if not output_file.exists():\n",
    "#     api_sent.download_all(product.index, directory_path=download_dir)"
   ]
  },
  {
   "cell_type": "code",
   "execution_count": 22,
   "metadata": {},
   "outputs": [
    {
     "data": {
      "application/vnd.jupyter.widget-view+json": {
       "model_id": "4e37700cde704f14b7060e8f2035d219",
       "version_major": 2,
       "version_minor": 0
      },
      "text/plain": [
       "Downloading S2A_MSIL2A_20220309T100841_N0400_R022_T32UQD_20220309T121849.zip:   0%|          | 0/817626551 [00…"
      ]
     },
     "metadata": {},
     "output_type": "display_data"
    }
   ],
   "source": [
    "# local convenience function\n",
    "# from downloader import download\n",
    "from simple_downloader import download\n",
    "\n",
    "TUB_URL = \"https://tubcloud.tu-berlin.de/s/QSi8fHG9ffG5FKE/download/S2A_MSIL2A_20220309T100841_N0400_R022_T32UQD_20220309T121849.zip\"\n",
    "output_file = download(TUB_URL, \"./data/\")"
   ]
  },
  {
   "cell_type": "markdown",
   "metadata": {
    "id": "_02CZZ6mPygz"
   },
   "source": [
    "### Extract zipfile"
   ]
  },
  {
   "cell_type": "code",
   "execution_count": null,
   "metadata": {},
   "outputs": [],
   "source": [
    "zipf = zipfile.ZipFile(output_file)\n",
    "zipf.extractall(path=\"data\")"
   ]
  },
  {
   "cell_type": "markdown",
   "metadata": {},
   "source": [
    "The data inside of the Zip-file is packaged into a \"root\" directory with the name of the original zip file + the `.SAFE` extension.\n",
    "The data we are interested in lives inside a subdirectory called `IMG_DATA`.\n",
    "The image data is encoded as a [jpeg2000](https://de.wikipedia.org/wiki/JPEG_2000) file with the extension `jp2`.\n",
    "\n",
    "We can combine all of the information to build a [glob](https://en.wikipedia.org/wiki/Glob_(programming)) expression to quickly build a list of the files we are interested in.\n",
    "\n",
    "Note: The directory structure has been changed very recently, depending on the selected dates, the relevant images live either directly under the `IMG_DATA` directory, or they live under a sub-directory `IMG_DATA/R{10,20,60}m/`."
   ]
  },
  {
   "cell_type": "code",
   "execution_count": null,
   "metadata": {},
   "outputs": [],
   "source": [
    "unzipped_dir = output_file.with_suffix(\".SAFE\")\n",
    "assert unzipped_dir.exists()"
   ]
  },
  {
   "cell_type": "markdown",
   "metadata": {},
   "source": [
    "## Working with the tile data\n",
    "### Accessing the data array"
   ]
  },
  {
   "cell_type": "code",
   "execution_count": null,
   "metadata": {},
   "outputs": [],
   "source": [
    "class Band(str, Enum):\n",
    "    \"\"\"A collection of different Sentinel-2 band names.\"\"\"\n",
    "\n",
    "    B01 = \"B01\"\n",
    "    B02 = \"B02\"\n",
    "    B03 = \"B03\"\n",
    "    B04 = \"B04\"\n",
    "    B05 = \"B05\"\n",
    "    B06 = \"B06\"\n",
    "    B07 = \"B07\"\n",
    "    B08 = \"B08\"\n",
    "    B8A = \"B8A\"\n",
    "    B09 = \"B09\"\n",
    "    B10 = \"B10\"\n",
    "    B11 = \"B11\"\n",
    "    B12 = \"B12\"\n",
    "\n",
    "    def __str__(self):\n",
    "        return self.value\n",
    "\n",
    "\n",
    "def read_s2_jp2_data(jp2_data_path: Path) -> np.ndarray:\n",
    "    \"\"\"\n",
    "    Read band from Sentinel-2 jp2 file.\n",
    "    \"\"\"\n",
    "    with rasterio.open(jp2_data_path) as data:\n",
    "        # rasterio is 1-indexed\n",
    "        return data.read(1)\n",
    "\n",
    "\n",
    "def _get_all_jp2_files(source_dir: Path, parent_dir: str = \"IMG_DATA/R60m\") -> List[Path]:\n",
    "    \"\"\"\n",
    "    Given a Sentinel-2 source directory, find all jp2 files that have\n",
    "    a parent folder named `parent_dir`.\n",
    "    Usually, it should be the folder `IMG_DATA`, other possible source\n",
    "    would be the quality masks in `QI_DATA`.\n",
    "    To not load band multiple times at different resolutions, by default\n",
    "    the lowest 60m band is loaded.\n",
    "\n",
    "    Note: Depending on the acquisition date and data type, the structure might be different\n",
    "    and no sub-directory within `IMG_DATA` exists!\n",
    "    \"\"\"\n",
    "    image_files = list(source_dir.glob(f\"**/{parent_dir}/*.jp2\"))\n",
    "    assert len(image_files) > 0\n",
    "    return image_files\n",
    "\n",
    "\n",
    "class S2_TileReader:\n",
    "    def __init__(self, safe_directory: Path, img_data_parent_dir: str = \"IMG_DATA/R60m\"):\n",
    "        self.image_files = _get_all_jp2_files(safe_directory, parent_dir=img_data_parent_dir)\n",
    "\n",
    "    def _get_band_path(self, band: Band) -> Path:\n",
    "        return [f for f in self.image_files if f\"_{band}_\" in f.name][0]\n",
    "\n",
    "    def read_band_data(self, band: Band) -> np.ndarray:\n",
    "        band_path = self._get_band_path(band)\n",
    "        return read_s2_jp2_data(band_path)\n",
    "\n",
    "\n",
    "s2_reader = S2_TileReader(unzipped_dir)\n",
    "band03_data = s2_reader.read_band_data(Band.B03)"
   ]
  },
  {
   "cell_type": "markdown",
   "metadata": {},
   "source": [
    "### Visualizing tiles\n",
    "#### Visualizing individual channels"
   ]
  },
  {
   "cell_type": "markdown",
   "metadata": {},
   "source": [
    "Sentinel-2 satellite data is encoded in an uncommon format `uint16` and requires special care, when trying to visualize.\n",
    "The minimum and maximum values are given by physical properties of the sensor and are not normalize to fill the entire data range."
   ]
  },
  {
   "cell_type": "code",
   "execution_count": null,
   "metadata": {},
   "outputs": [],
   "source": [
    "band03_data.min(), band03_data.max(), band03_data.shape, band03_data.dtype"
   ]
  },
  {
   "cell_type": "code",
   "execution_count": null,
   "metadata": {},
   "outputs": [],
   "source": [
    "plt.figure(figsize=(15, 15))\n",
    "plt.imshow(band03_data, cmap=\"gray\")"
   ]
  },
  {
   "cell_type": "code",
   "execution_count": null,
   "metadata": {},
   "outputs": [],
   "source": [
    "def quant_norm_data(\n",
    "    data: np.ndarray, lower_quant: float = 0.01, upper_quant: float = 0.99\n",
    ") -> np.ndarray:\n",
    "    \"\"\"\n",
    "    Normalize the data by quantiles `lower_quant/upper_quant`.\n",
    "    The quantiles are calculated globally/*across all channels*.\n",
    "    \"\"\"\n",
    "    masked_data = np.ma.masked_equal(data, 0)\n",
    "    lq, uq = np.quantile(masked_data.compressed(), (lower_quant, upper_quant))\n",
    "    data = np.clip(data, a_min=lq, a_max=uq)\n",
    "    data = (data - lq) / (uq - lq)\n",
    "    return data\n",
    "\n",
    "\n",
    "def vis(data: np.ndarray, quant_norm: bool = True):\n",
    "    \"\"\"\n",
    "    Visualize an array by calling `imshow` with `cmap=\"gray\"`.\n",
    "    By default, the image is normalized through `quant_norm_data`.\n",
    "    \"\"\"\n",
    "    if quant_norm:\n",
    "        data = quant_norm_data(data)\n",
    "\n",
    "    plt.figure(figsize=(15, 15))\n",
    "    plt.axis(\"off\")\n",
    "    plt.imshow(data, cmap=\"gray\")\n",
    "\n",
    "\n",
    "vis(band03_data)"
   ]
  },
  {
   "cell_type": "code",
   "execution_count": null,
   "metadata": {},
   "outputs": [],
   "source": [
    "# vis(band03_data)\n",
    "sub_band03_data = band03_data[-600:, -600:]\n",
    "vis(sub_band03_data)"
   ]
  },
  {
   "cell_type": "markdown",
   "metadata": {},
   "source": [
    "#### Visualizing multiple bands"
   ]
  },
  {
   "cell_type": "code",
   "execution_count": null,
   "metadata": {},
   "outputs": [],
   "source": [
    "rgb_arr = np.stack(\n",
    "    [s2_reader.read_band_data(b) for b in (Band.B04, Band.B03, Band.B02)],\n",
    "    axis=-1,\n",
    ")\n",
    "rgb_arr.shape"
   ]
  },
  {
   "cell_type": "code",
   "execution_count": null,
   "metadata": {},
   "outputs": [],
   "source": [
    "vis(rgb_arr)"
   ]
  },
  {
   "cell_type": "code",
   "execution_count": null,
   "metadata": {},
   "outputs": [],
   "source": [
    "sub_rgb_arr = rgb_arr[-600:, -600:]\n",
    "vis(sub_rgb_arr)"
   ]
  },
  {
   "cell_type": "code",
   "execution_count": null,
   "metadata": {},
   "outputs": [],
   "source": [
    "# store each channel individually with a key to\n",
    "# make it easier to work with it later\n",
    "np.savez(\n",
    "    \"data/sub_rgb_arr\",\n",
    "    red=sub_rgb_arr[:, :, 0],\n",
    "    green=sub_rgb_arr[:, :, 1],\n",
    "    blue=sub_rgb_arr[:, :, 2],\n",
    ")\n",
    "np.savez(\"data/rgb_arr\", red=rgb_arr[:, :, 0], green=rgb_arr[:, :, 1], blue=rgb_arr[:, :, 2])"
   ]
  },
  {
   "cell_type": "markdown",
   "metadata": {},
   "source": [
    "#### Exercise\n",
    "\n",
    "Create a False Color Composite by visualizing the bands `B8A`, `B04`, `B03`."
   ]
  },
  {
   "cell_type": "markdown",
   "metadata": {},
   "source": [
    "### Selecting regions of tiles\n",
    "\n",
    "Use the `osmnx` library to retrieve the area of interest by looking up a name-identifier."
   ]
  },
  {
   "cell_type": "code",
   "execution_count": null,
   "metadata": {},
   "outputs": [],
   "source": [
    "berlin_gdf = osmnx.geocode_to_gdf(\"Berlin\")\n",
    "berlin_gdf"
   ]
  },
  {
   "cell_type": "code",
   "execution_count": null,
   "metadata": {},
   "outputs": [],
   "source": [
    "berlin_gdf.explore()"
   ]
  },
  {
   "cell_type": "code",
   "execution_count": null,
   "metadata": {},
   "outputs": [],
   "source": [
    "def read_s2_jp2_data_with_clipping(\n",
    "    band_data_path: Path, clip_geoseries: geopandas.GeoSeries, envelope: bool = True\n",
    ") -> np.ndarray:\n",
    "    with rasterio.open(band_data_path) as data:\n",
    "        # ensure that the data is using the same coordinate reference system\n",
    "        reprojected_geoseries = clip_geoseries.to_crs(data.crs)\n",
    "        reprojected_geoseries = (\n",
    "            reprojected_geoseries.envelope if envelope else reprojected_geoseries\n",
    "        )\n",
    "        out_img, _out_transform = rasterio.mask.mask(data, reprojected_geoseries, crop=True)\n",
    "        # drop singleton axes\n",
    "        out_img = out_img.squeeze()\n",
    "    return out_img"
   ]
  },
  {
   "cell_type": "code",
   "execution_count": null,
   "metadata": {},
   "outputs": [],
   "source": [
    "class S2_TileReader:\n",
    "    def __init__(self, safe_directory: Path, img_data_parent_dir: str = \"IMG_DATA/R60m\"):\n",
    "        self.image_files = _get_all_jp2_files(safe_directory, parent_dir=img_data_parent_dir)\n",
    "\n",
    "    def _get_band_path(self, band: Band) -> Path:\n",
    "        return [f for f in self.image_files if f\"_{band}_\" in f.name][0]\n",
    "\n",
    "    def read_band_data(self, band: Band) -> np.ndarray:\n",
    "        band_path = self._get_band_path(band)\n",
    "        return read_s2_jp2_data(band_path)\n",
    "\n",
    "    def read_band_data_with_clipping(\n",
    "        self, band: Band, clip_geoseries: geopandas.GeoSeries, envelope: bool = True\n",
    "    ) -> np.ndarray:\n",
    "        band_path = self._get_band_path(band)\n",
    "        return read_s2_jp2_data_with_clipping(band_path, clip_geoseries, envelope=envelope)\n",
    "\n",
    "\n",
    "# re-initialize\n",
    "s2_reader = S2_TileReader(unzipped_dir)\n",
    "clipped_band03_data = s2_reader.read_band_data_with_clipping(\n",
    "    Band.B03, berlin_gdf.geometry, envelope=True\n",
    ")"
   ]
  },
  {
   "cell_type": "code",
   "execution_count": null,
   "metadata": {},
   "outputs": [],
   "source": [
    "# berlin_gdf.envelope.explore()"
   ]
  },
  {
   "cell_type": "code",
   "execution_count": null,
   "metadata": {},
   "outputs": [],
   "source": [
    "vis(clipped_band03_data)"
   ]
  },
  {
   "cell_type": "code",
   "execution_count": null,
   "metadata": {},
   "outputs": [],
   "source": [
    "clipped_rgb_arr = np.stack(\n",
    "    [s2_reader.read_band_data_with_clipping(b, berlin_gdf.geometry) for b in (\"B04\", \"B03\", \"B02\")],\n",
    "    axis=-1,\n",
    ")"
   ]
  },
  {
   "cell_type": "code",
   "execution_count": null,
   "metadata": {},
   "outputs": [],
   "source": [
    "vis(clipped_rgb_arr)"
   ]
  },
  {
   "cell_type": "code",
   "execution_count": null,
   "metadata": {},
   "outputs": [],
   "source": [
    "vis(clipped_rgb_arr)"
   ]
  },
  {
   "cell_type": "markdown",
   "metadata": {
    "id": "0KGPyLgKnIPv"
   },
   "source": [
    "## Inspecting spectral signature"
   ]
  },
  {
   "cell_type": "code",
   "execution_count": null,
   "metadata": {},
   "outputs": [],
   "source": [
    "# LCLU: Land-Cover Land-Use\n",
    "lclu_gdf = geopandas.GeoDataFrame(\n",
    "    {\"type\": [\"water\", \"airport\", \"forest\"]},\n",
    "    geometry=[\n",
    "        Point(13.175955, 52.456009),\n",
    "        Point(13.508517, 52.380236),\n",
    "        Point(13.212926, 52.478834),\n",
    "    ],\n",
    "    crs=\"epsg:4326\",\n",
    ")\n",
    "lclu_gdf.reset_index().explore(marker_type=\"marker\")"
   ]
  },
  {
   "cell_type": "code",
   "execution_count": null,
   "metadata": {},
   "outputs": [],
   "source": [
    "# depends on product type and used image directory!\n",
    "AVAILABLE_BANDS = (\n",
    "    Band.B01,\n",
    "    Band.B02,\n",
    "    Band.B03,\n",
    "    Band.B04,\n",
    "    Band.B05,\n",
    "    Band.B06,\n",
    "    Band.B07,\n",
    "    Band.B8A,\n",
    "    Band.B09,\n",
    "    Band.B11,\n",
    "    Band.B12,\n",
    ")\n",
    "\n",
    "\n",
    "def read_points_from_tile(\n",
    "    s2_reader: S2_TileReader,\n",
    "    points_series: geopandas.GeoSeries,\n",
    "    bands: Sequence[Band] = AVAILABLE_BANDS,\n",
    ") -> np.ndarray:\n",
    "    if set(lclu_gdf.geom_type) != {\"Point\"}:\n",
    "        raise ValueError(\"Only point geometries are allowed!\")\n",
    "\n",
    "    return np.array([s2_reader.read_band_data_with_clipping(b, points_series) for b in bands])"
   ]
  },
  {
   "cell_type": "code",
   "execution_count": null,
   "metadata": {},
   "outputs": [],
   "source": [
    "lclu_gdf"
   ]
  },
  {
   "cell_type": "code",
   "execution_count": null,
   "metadata": {},
   "outputs": [],
   "source": [
    "water_spectral_sig = read_points_from_tile(s2_reader, lclu_gdf.query(\"type == 'water'\"))\n",
    "airport_spectral_sig = read_points_from_tile(\n",
    "    s2_reader, lclu_gdf.query(\"type == 'airport'\").geometry\n",
    ")\n",
    "forest_spectral_sig = read_points_from_tile(s2_reader, lclu_gdf.query(\"type == 'forest'\").geometry)"
   ]
  },
  {
   "cell_type": "code",
   "execution_count": null,
   "metadata": {},
   "outputs": [],
   "source": [
    "plt.figure(figsize=(10, 6))\n",
    "plt.plot(AVAILABLE_BANDS, forest_spectral_sig, \"o-\", label=\"forest\", linewidth=2)\n",
    "plt.plot(AVAILABLE_BANDS, airport_spectral_sig, \"o-\", label=\"airport\", linewidth=2)\n",
    "plt.plot(AVAILABLE_BANDS, water_spectral_sig, \"o-\", label=\"water\", linewidth=2)\n",
    "\n",
    "plt.legend(fontsize=14)\n",
    "plt.grid()"
   ]
  },
  {
   "cell_type": "markdown",
   "metadata": {
    "id": "brg-cl6PETK-"
   },
   "source": [
    "### In-course Practice:\n",
    "\n",
    "Select 3 different point (pixels) and plot their spectral signitures"
   ]
  },
  {
   "cell_type": "code",
   "execution_count": null,
   "metadata": {
    "id": "5KB-60d8EG9I"
   },
   "outputs": [],
   "source": []
  }
 ],
 "metadata": {
  "colab": {
   "collapsed_sections": [],
   "name": "Lab01.ipynb",
   "provenance": [
    {
     "file_id": "1iflYcaSB5m5qeFU5UMvFKX73OsLFVCbh",
     "timestamp": 1618818796742
    }
   ]
  },
  "kernelspec": {
   "display_name": "Python 3",
   "name": "python3"
  },
  "language_info": {
   "codemirror_mode": {
    "name": "ipython",
    "version": 3
   },
   "file_extension": ".py",
   "mimetype": "text/x-python",
   "name": "python",
   "nbconvert_exporter": "python",
   "pygments_lexer": "ipython3",
   "version": "3.8.13"
  }
 },
 "nbformat": 4,
 "nbformat_minor": 0
}